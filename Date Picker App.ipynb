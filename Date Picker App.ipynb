{
 "cells": [
  {
   "cell_type": "code",
   "execution_count": 4,
   "id": "2a2417c0-7f43-48b7-bf11-17b3f891476b",
   "metadata": {},
   "outputs": [
    {
     "name": "stdout",
     "output_type": "stream",
     "text": [
      "Requirement already satisfied: tkcalendar in /Library/Frameworks/Python.framework/Versions/3.11/lib/python3.11/site-packages (1.6.1)\n",
      "Requirement already satisfied: babel in /Library/Frameworks/Python.framework/Versions/3.11/lib/python3.11/site-packages (from tkcalendar) (2.13.0)\n",
      "\n",
      "\u001b[1m[\u001b[0m\u001b[34;49mnotice\u001b[0m\u001b[1;39;49m]\u001b[0m\u001b[39;49m A new release of pip is available: \u001b[0m\u001b[31;49m24.0\u001b[0m\u001b[39;49m -> \u001b[0m\u001b[32;49m24.3.1\u001b[0m\n",
      "\u001b[1m[\u001b[0m\u001b[34;49mnotice\u001b[0m\u001b[1;39;49m]\u001b[0m\u001b[39;49m To update, run: \u001b[0m\u001b[32;49mpip install --upgrade pip\u001b[0m\n",
      "Note: you may need to restart the kernel to use updated packages.\n"
     ]
    }
   ],
   "source": [
    "pip install tkcalendar"
   ]
  },
  {
   "cell_type": "code",
   "execution_count": 5,
   "id": "6f852c1d-25c0-490b-ba7a-b89ccad3b028",
   "metadata": {},
   "outputs": [],
   "source": [
    "import tkinter as tk\n",
    "from tkinter import messagebox\n",
    "from tkcalendar import Calendar"
   ]
  },
  {
   "cell_type": "code",
   "execution_count": 6,
   "id": "2ca5cbdc-3e3c-4a6a-a7a1-190d653f4d2d",
   "metadata": {},
   "outputs": [],
   "source": [
    "class DatePickerApp:\n",
    "    def __init__(self, root):\n",
    "        self.root = root\n",
    "        self.root.title(\"Date Picker App\")\n",
    "        self.root.geometry(\"400x400\")\n",
    "        \n",
    "        # Label to display instructions\n",
    "        tk.Label(root, text=\"Select a Date\", font=(\"Arial\", 16)).pack(pady=10)\n",
    "\n",
    "        # Calendar widget\n",
    "        self.calendar = Calendar(root, selectmode=\"day\", year=2024, month=1, day=1)\n",
    "        self.calendar.pack(pady=20)\n",
    "\n",
    "        # Button to confirm the selected date\n",
    "        self.select_button = tk.Button(root, text=\"Select Date\", command=self.select_date, font=(\"Arial\", 12))\n",
    "        self.select_button.pack(pady=20)\n",
    "\n",
    "        # Label to display the selected date\n",
    "        self.selected_date_label = tk.Label(root, text=\"\", font=(\"Arial\", 14))\n",
    "        self.selected_date_label.pack(pady=10)\n",
    "\n",
    "    def select_date(self):\n",
    "        # Get selected date from calendar\n",
    "        selected_date = self.calendar.get_date()\n",
    "        self.selected_date_label.config(text=f\"Selected Date: {selected_date}\")\n",
    "        messagebox.showinfo(\"Date Selected\", f\"You selected {selected_date}\")\n"
   ]
  },
  {
   "cell_type": "code",
   "execution_count": 7,
   "id": "c715d7d9-ef91-4327-93b2-a7d489291635",
   "metadata": {},
   "outputs": [
    {
     "name": "stderr",
     "output_type": "stream",
     "text": [
      "2024-11-13 11:14:22.755 Python[7842:477303] +[IMKClient subclass]: chose IMKClient_Modern\n",
      "2024-11-13 11:14:22.755 Python[7842:477303] +[IMKInputSession subclass]: chose IMKInputSession_Modern\n"
     ]
    }
   ],
   "source": [
    "# Main GUI loop\n",
    "if __name__ == \"__main__\":\n",
    "    root = tk.Tk()\n",
    "    app = DatePickerApp(root)\n",
    "    root.mainloop()"
   ]
  }
 ],
 "metadata": {
  "kernelspec": {
   "display_name": "Python 3 (ipykernel)",
   "language": "python",
   "name": "python3"
  },
  "language_info": {
   "codemirror_mode": {
    "name": "ipython",
    "version": 3
   },
   "file_extension": ".py",
   "mimetype": "text/x-python",
   "name": "python",
   "nbconvert_exporter": "python",
   "pygments_lexer": "ipython3",
   "version": "3.11.6"
  }
 },
 "nbformat": 4,
 "nbformat_minor": 5
}
