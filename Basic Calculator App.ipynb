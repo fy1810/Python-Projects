{
 "cells": [
  {
   "cell_type": "code",
   "execution_count": 2,
   "id": "4a37b93a-6732-41a5-b363-d7c729f17deb",
   "metadata": {},
   "outputs": [],
   "source": [
    "import tkinter as tk"
   ]
  },
  {
   "cell_type": "code",
   "execution_count": 3,
   "id": "69bca712-25c9-4942-9a53-7d81daf2f93a",
   "metadata": {},
   "outputs": [],
   "source": [
    "class CalculatorApp:\n",
    "    def __init__(self, root):\n",
    "        self.root = root\n",
    "        self.root.title(\"Calculator\")\n",
    "        self.root.geometry(\"400x500\")\n",
    "        \n",
    "        # Display entry\n",
    "        self.display = tk.Entry(root, font=(\"Arial\", 24), borderwidth=5, relief=\"ridge\", justify=\"right\")\n",
    "        self.display.grid(row=0, column=0, columnspan=4, ipadx=8, ipady=20)\n",
    "\n",
    "        # Buttons for calculator\n",
    "        buttons = [\n",
    "            '7', '8', '9', '/',\n",
    "            '4', '5', '6', '*',\n",
    "            '1', '2', '3', '-',\n",
    "            '0', 'C', '=', '+'\n",
    "        ]\n",
    "\n",
    "        row = 1\n",
    "        col = 0\n",
    "        for button in buttons:\n",
    "            action = lambda x=button: self.on_button_click(x)\n",
    "            tk.Button(root, text=button, width=10, height=3, font=(\"Arial\", 14), command=action).grid(row=row, column=col, padx=5, pady=5)\n",
    "            col += 1\n",
    "            if col > 3:\n",
    "                col = 0\n",
    "                row += 1\n",
    "\n",
    "    def on_button_click(self, char):\n",
    "        if char == 'C':\n",
    "            self.display.delete(0, tk.END)\n",
    "        elif char == '=':\n",
    "            try:\n",
    "                result = eval(self.display.get())\n",
    "                self.display.delete(0, tk.END)\n",
    "                self.display.insert(tk.END, str(result))\n",
    "            except Exception as e:\n",
    "                self.display.delete(0, tk.END)\n",
    "                self.display.insert(tk.END, \"Error\")\n",
    "        else:\n",
    "            self.display.insert(tk.END, char)\n",
    "\n"
   ]
  },
  {
   "cell_type": "code",
   "execution_count": 4,
   "id": "bd3b7db4-5689-4d3c-8da9-0427cecc56fc",
   "metadata": {},
   "outputs": [
    {
     "name": "stderr",
     "output_type": "stream",
     "text": [
      "2024-11-13 11:09:49.365 Python[7819:474980] +[IMKClient subclass]: chose IMKClient_Modern\n",
      "2024-11-13 11:09:49.365 Python[7819:474980] +[IMKInputSession subclass]: chose IMKInputSession_Modern\n"
     ]
    }
   ],
   "source": [
    "# Main GUI loop\n",
    "if __name__ == \"__main__\":\n",
    "    root = tk.Tk()\n",
    "    app = CalculatorApp(root)\n",
    "    root.mainloop()\n"
   ]
  },
  {
   "cell_type": "code",
   "execution_count": null,
   "id": "70c1f6b0-2c52-405c-b4c2-893934123cd3",
   "metadata": {},
   "outputs": [],
   "source": []
  }
 ],
 "metadata": {
  "kernelspec": {
   "display_name": "Python 3 (ipykernel)",
   "language": "python",
   "name": "python3"
  },
  "language_info": {
   "codemirror_mode": {
    "name": "ipython",
    "version": 3
   },
   "file_extension": ".py",
   "mimetype": "text/x-python",
   "name": "python",
   "nbconvert_exporter": "python",
   "pygments_lexer": "ipython3",
   "version": "3.11.6"
  }
 },
 "nbformat": 4,
 "nbformat_minor": 5
}
