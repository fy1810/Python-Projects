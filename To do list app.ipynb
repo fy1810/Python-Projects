{
 "cells": [
  {
   "cell_type": "code",
   "execution_count": 1,
   "id": "0813cc4f-4f35-46bd-8210-b14971561eb2",
   "metadata": {},
   "outputs": [],
   "source": [
    "import tkinter as tk\n",
    "from tkinter import messagebox"
   ]
  },
  {
   "cell_type": "code",
   "execution_count": 2,
   "id": "b6a282de-fc8a-41ea-bb78-8981e75e83b3",
   "metadata": {},
   "outputs": [],
   "source": [
    "class ToDoApp:\n",
    "    def __init__(self, root):\n",
    "        self.root = root\n",
    "        self.root.title(\"To-Do List App\")\n",
    "        self.root.geometry(\"400x400\")\n",
    "\n",
    "        # List to store tasks\n",
    "        self.tasks = []\n",
    "\n",
    "        # Entry for new task\n",
    "        self.task_entry = tk.Entry(root, width=30)\n",
    "        self.task_entry.pack(pady=10)\n",
    "\n",
    "        # Button to add task\n",
    "        self.add_button = tk.Button(root, text=\"Add Task\", width=15, command=self.add_task)\n",
    "        self.add_button.pack(pady=5)\n",
    "\n",
    "        # Listbox to display tasks\n",
    "        self.task_listbox = tk.Listbox(root, width=40, height=15)\n",
    "        self.task_listbox.pack(pady=10)\n",
    "\n",
    "        # Button to delete selected task\n",
    "        self.delete_button = tk.Button(root, text=\"Delete Task\", width=15, command=self.delete_task)\n",
    "        self.delete_button.pack(pady=5)\n",
    "\n",
    "    def add_task(self):\n",
    "        task = self.task_entry.get()\n",
    "        if task != \"\":\n",
    "            self.tasks.append(task)\n",
    "            self.task_listbox.insert(tk.END, task)\n",
    "            self.task_entry.delete(0, tk.END)\n",
    "        else:\n",
    "            messagebox.showwarning(\"Warning\", \"Task cannot be empty\")\n",
    "\n",
    "    def delete_task(self):\n",
    "        try:\n",
    "            selected_task_index = self.task_listbox.curselection()[0]\n",
    "            self.task_listbox.delete(selected_task_index)\n",
    "            self.tasks.pop(selected_task_index)\n",
    "        except IndexError:\n",
    "            messagebox.showwarning(\"Warning\", \"Select a task to delete\")"
   ]
  },
  {
   "cell_type": "code",
   "execution_count": 3,
   "id": "f2c70a66-9cd3-4768-a3f6-fd61be398173",
   "metadata": {},
   "outputs": [
    {
     "name": "stderr",
     "output_type": "stream",
     "text": [
      "2024-11-13 10:46:46.407 Python[7650:466291] +[IMKClient subclass]: chose IMKClient_Modern\n",
      "2024-11-13 10:46:46.407 Python[7650:466291] +[IMKInputSession subclass]: chose IMKInputSession_Modern\n"
     ]
    }
   ],
   "source": [
    "# Main GUI loop\n",
    "if __name__ == \"__main__\":\n",
    "    root = tk.Tk()\n",
    "    app = ToDoApp(root)\n",
    "    root.mainloop()"
   ]
  },
  {
   "cell_type": "code",
   "execution_count": null,
   "id": "2a82c834-bba7-48bd-8f20-017d7749ec58",
   "metadata": {},
   "outputs": [],
   "source": []
  }
 ],
 "metadata": {
  "kernelspec": {
   "display_name": "Python 3 (ipykernel)",
   "language": "python",
   "name": "python3"
  },
  "language_info": {
   "codemirror_mode": {
    "name": "ipython",
    "version": 3
   },
   "file_extension": ".py",
   "mimetype": "text/x-python",
   "name": "python",
   "nbconvert_exporter": "python",
   "pygments_lexer": "ipython3",
   "version": "3.11.6"
  }
 },
 "nbformat": 4,
 "nbformat_minor": 5
}
