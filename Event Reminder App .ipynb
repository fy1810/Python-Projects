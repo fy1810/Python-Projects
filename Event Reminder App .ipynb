{
 "cells": [
  {
   "cell_type": "code",
   "execution_count": 1,
   "id": "b9cf60ca-2e88-422f-ac3b-7090ddbe0922",
   "metadata": {},
   "outputs": [
    {
     "name": "stdout",
     "output_type": "stream",
     "text": [
      "Requirement already satisfied: tkcalendar in /Library/Frameworks/Python.framework/Versions/3.11/lib/python3.11/site-packages (1.6.1)\n",
      "Requirement already satisfied: babel in /Library/Frameworks/Python.framework/Versions/3.11/lib/python3.11/site-packages (from tkcalendar) (2.13.0)\n",
      "\n",
      "\u001b[1m[\u001b[0m\u001b[34;49mnotice\u001b[0m\u001b[1;39;49m]\u001b[0m\u001b[39;49m A new release of pip is available: \u001b[0m\u001b[31;49m24.0\u001b[0m\u001b[39;49m -> \u001b[0m\u001b[32;49m24.3.1\u001b[0m\n",
      "\u001b[1m[\u001b[0m\u001b[34;49mnotice\u001b[0m\u001b[1;39;49m]\u001b[0m\u001b[39;49m To update, run: \u001b[0m\u001b[32;49mpip install --upgrade pip\u001b[0m\n",
      "Note: you may need to restart the kernel to use updated packages.\n"
     ]
    }
   ],
   "source": [
    "pip install tkcalendar"
   ]
  },
  {
   "cell_type": "code",
   "execution_count": 2,
   "id": "9d0ee5c1-90ee-4100-a615-853beccd959b",
   "metadata": {},
   "outputs": [],
   "source": [
    "import tkinter as tk\n",
    "from tkinter import messagebox\n",
    "from tkcalendar import Calendar\n",
    "import datetime"
   ]
  },
  {
   "cell_type": "code",
   "execution_count": 3,
   "id": "fa4a5cff-4003-4480-92f6-07c7eb937f5b",
   "metadata": {},
   "outputs": [],
   "source": [
    "class EventReminderApp:\n",
    "    def __init__(self, root):\n",
    "        self.root = root\n",
    "        self.root.title(\"Event Reminder App\")\n",
    "        self.root.geometry(\"500x500\")\n",
    "\n",
    "        # List to store events\n",
    "        self.events = []\n",
    "\n",
    "        # Title Label\n",
    "        tk.Label(root, text=\"Event Reminder\", font=(\"Arial\", 16)).pack(pady=10)\n",
    "\n",
    "        # Entry for event name\n",
    "        tk.Label(root, text=\"Event Name:\", font=(\"Arial\", 12)).pack()\n",
    "        self.event_name_entry = tk.Entry(root, width=30)\n",
    "        self.event_name_entry.pack(pady=5)\n",
    "\n",
    "        # Calendar for date selection\n",
    "        tk.Label(root, text=\"Select Date:\", font=(\"Arial\", 12)).pack()\n",
    "        self.calendar = Calendar(root, selectmode=\"day\", year=datetime.datetime.now().year,\n",
    "                                 month=datetime.datetime.now().month, day=datetime.datetime.now().day)\n",
    "        self.calendar.pack(pady=10)\n",
    "\n",
    "        # Button to add event\n",
    "        self.add_event_button = tk.Button(root, text=\"Add Event\", command=self.add_event, font=(\"Arial\", 12))\n",
    "        self.add_event_button.pack(pady=10)\n",
    "\n",
    "        # Listbox to display events\n",
    "        tk.Label(root, text=\"Scheduled Events:\", font=(\"Arial\", 12)).pack()\n",
    "        self.event_listbox = tk.Listbox(root, width=50, height=10)\n",
    "        self.event_listbox.pack(pady=10)\n",
    "\n",
    "        # Button to delete selected event\n",
    "        self.delete_event_button = tk.Button(root, text=\"Delete Selected Event\", command=self.delete_event, font=(\"Arial\", 12))\n",
    "        self.delete_event_button.pack(pady=10)\n",
    "\n",
    "    def add_event(self):\n",
    "        event_name = self.event_name_entry.get()\n",
    "        event_date = self.calendar.get_date()\n",
    "        \n",
    "        if not event_name:\n",
    "            messagebox.showwarning(\"Warning\", \"Event name cannot be empty!\")\n",
    "            return\n",
    "        \n",
    "        event = f\"{event_date} - {event_name}\"\n",
    "        self.events.append(event)\n",
    "        \n",
    "        # Update the Listbox\n",
    "        self.event_listbox.insert(tk.END, event)\n",
    "        self.event_name_entry.delete(0, tk.END)\n",
    "        \n",
    "        messagebox.showinfo(\"Event Added\", f\"Event '{event_name}' on {event_date} added successfully.\")\n",
    "\n",
    "    def delete_event(self):\n",
    "        try:\n",
    "            selected_index = self.event_listbox.curselection()[0]\n",
    "            selected_event = self.event_listbox.get(selected_index)\n",
    "            self.event_listbox.delete(selected_index)\n",
    "            self.events.remove(selected_event)\n",
    "            messagebox.showinfo(\"Event Deleted\", f\"Event '{selected_event}' has been deleted.\")\n",
    "        except IndexError:\n",
    "            messagebox.showwarning(\"Warning\", \"Select an event to delete.\")\n"
   ]
  },
  {
   "cell_type": "code",
   "execution_count": null,
   "id": "87fdc2fe-3532-42db-991b-94dad8a332df",
   "metadata": {},
   "outputs": [
    {
     "name": "stderr",
     "output_type": "stream",
     "text": [
      "2024-11-13 11:42:25.859 Python[8117:500150] +[IMKClient subclass]: chose IMKClient_Modern\n",
      "2024-11-13 11:42:25.859 Python[8117:500150] +[IMKInputSession subclass]: chose IMKInputSession_Modern\n"
     ]
    }
   ],
   "source": [
    "# Main GUI loop\n",
    "if __name__ == \"__main__\":\n",
    "    root = tk.Tk()\n",
    "    app = EventReminderApp(root)\n",
    "    root.mainloop()"
   ]
  },
  {
   "cell_type": "code",
   "execution_count": null,
   "id": "81ca1d37-ea61-4830-9a1d-52cbe720c42e",
   "metadata": {},
   "outputs": [],
   "source": []
  }
 ],
 "metadata": {
  "kernelspec": {
   "display_name": "Python 3 (ipykernel)",
   "language": "python",
   "name": "python3"
  },
  "language_info": {
   "codemirror_mode": {
    "name": "ipython",
    "version": 3
   },
   "file_extension": ".py",
   "mimetype": "text/x-python",
   "name": "python",
   "nbconvert_exporter": "python",
   "pygments_lexer": "ipython3",
   "version": "3.11.6"
  }
 },
 "nbformat": 4,
 "nbformat_minor": 5
}
