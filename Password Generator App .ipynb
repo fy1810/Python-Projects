{
 "cells": [
  {
   "cell_type": "code",
   "execution_count": 1,
   "id": "a36ed2f0-5849-470c-a8c1-169a564dc9eb",
   "metadata": {},
   "outputs": [],
   "source": [
    "import tkinter as tk\n",
    "from tkinter import messagebox\n",
    "import string\n",
    "import random"
   ]
  },
  {
   "cell_type": "code",
   "execution_count": 2,
   "id": "25f88e56-7947-43d9-8f1d-16ee622e431d",
   "metadata": {},
   "outputs": [],
   "source": [
    "class PasswordGeneratorApp:\n",
    "    def __init__(self, root):\n",
    "        self.root = root\n",
    "        self.root.title(\"Password Generator\")\n",
    "        self.root.geometry(\"400x300\")\n",
    "        \n",
    "        # Password Length\n",
    "        tk.Label(root, text=\"Password Length:\").pack(pady=10)\n",
    "        self.length_entry = tk.Entry(root, width=10)\n",
    "        self.length_entry.pack(pady=5)\n",
    "        \n",
    "        # Checkboxes for character inclusion\n",
    "        self.include_uppercase = tk.BooleanVar(value=True)\n",
    "        self.include_lowercase = tk.BooleanVar(value=True)\n",
    "        self.include_numbers = tk.BooleanVar(value=True)\n",
    "        self.include_special = tk.BooleanVar(value=True)\n",
    "        \n",
    "        tk.Checkbutton(root, text=\"Include Uppercase\", variable=self.include_uppercase).pack()\n",
    "        tk.Checkbutton(root, text=\"Include Lowercase\", variable=self.include_lowercase).pack()\n",
    "        tk.Checkbutton(root, text=\"Include Numbers\", variable=self.include_numbers).pack()\n",
    "        tk.Checkbutton(root, text=\"Include Special Characters\", variable=self.include_special).pack()\n",
    "        \n",
    "        # Button to generate password\n",
    "        self.generate_button = tk.Button(root, text=\"Generate Password\", command=self.generate_password)\n",
    "        self.generate_button.pack(pady=20)\n",
    "        \n",
    "        # Display generated password\n",
    "        self.password_display = tk.Entry(root, width=40)\n",
    "        self.password_display.pack(pady=5)\n",
    "        \n",
    "        # Button to copy password to clipboard\n",
    "        self.copy_button = tk.Button(root, text=\"Copy to Clipboard\", command=self.copy_to_clipboard)\n",
    "        self.copy_button.pack(pady=10)\n",
    "\n",
    "    def generate_password(self):\n",
    "        try:\n",
    "            length = int(self.length_entry.get())\n",
    "        except ValueError:\n",
    "            messagebox.showerror(\"Error\", \"Please enter a valid length.\")\n",
    "            return\n",
    "\n",
    "        if length <= 0:\n",
    "            messagebox.showerror(\"Error\", \"Password length must be greater than 0.\")\n",
    "            return\n",
    "\n",
    "        characters = \"\"\n",
    "        if self.include_uppercase.get():\n",
    "            characters += string.ascii_uppercase\n",
    "        if self.include_lowercase.get():\n",
    "            characters += string.ascii_lowercase\n",
    "        if self.include_numbers.get():\n",
    "            characters += string.digits\n",
    "        if self.include_special.get():\n",
    "            characters += string.punctuation\n",
    "\n",
    "        if not characters:\n",
    "            messagebox.showerror(\"Error\", \"Select at least one character type.\")\n",
    "            return\n",
    "\n",
    "        password = ''.join(random.choice(characters) for _ in range(length))\n",
    "        self.password_display.delete(0, tk.END)\n",
    "        self.password_display.insert(tk.END, password)\n",
    "\n",
    "    def copy_to_clipboard(self):\n",
    "        password = self.password_display.get()\n",
    "        if password:\n",
    "            self.root.clipboard_clear()\n",
    "            self.root.clipboard_append(password)\n",
    "            messagebox.showinfo(\"Info\", \"Password copied to clipboard!\")\n",
    "        else:\n",
    "            messagebox.showwarning(\"Warning\", \"Generate a password first.\")\n"
   ]
  },
  {
   "cell_type": "code",
   "execution_count": 3,
   "id": "de9bd495-bf37-4312-bfeb-f49f4b91b25a",
   "metadata": {},
   "outputs": [
    {
     "name": "stderr",
     "output_type": "stream",
     "text": [
      "2024-11-13 10:50:31.461 Python[7693:468052] +[IMKClient subclass]: chose IMKClient_Modern\n",
      "2024-11-13 10:50:31.461 Python[7693:468052] +[IMKInputSession subclass]: chose IMKInputSession_Modern\n"
     ]
    }
   ],
   "source": [
    "# Main GUI loop\n",
    "if __name__ == \"__main__\":\n",
    "    root = tk.Tk()\n",
    "    app = PasswordGeneratorApp(root)\n",
    "    root.mainloop()"
   ]
  },
  {
   "cell_type": "code",
   "execution_count": null,
   "id": "54d29fcd-b4d5-4e3f-888a-16a7a52986ad",
   "metadata": {},
   "outputs": [],
   "source": []
  }
 ],
 "metadata": {
  "kernelspec": {
   "display_name": "Python 3 (ipykernel)",
   "language": "python",
   "name": "python3"
  },
  "language_info": {
   "codemirror_mode": {
    "name": "ipython",
    "version": 3
   },
   "file_extension": ".py",
   "mimetype": "text/x-python",
   "name": "python",
   "nbconvert_exporter": "python",
   "pygments_lexer": "ipython3",
   "version": "3.11.6"
  }
 },
 "nbformat": 4,
 "nbformat_minor": 5
}
